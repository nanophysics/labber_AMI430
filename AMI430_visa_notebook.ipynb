{
 "cells": [
  {
   "cell_type": "code",
   "execution_count": 2,
   "metadata": {},
   "outputs": [
    {
     "name": "stderr",
     "output_type": "stream",
     "text": [
      "DEBUG:LabberDriver:Y Querying: *IDN?\n",
      "'EBUG:LabberDriver:Y Response: 'American Magnetics Model 430 IP Interface\n",
      "DEBUG:LabberDriver:Y Querying: COIL?\n"
     ]
    },
    {
     "ename": "ValueError",
     "evalue": "could not convert string to float: 'Hello.\\r'",
     "output_type": "error",
     "traceback": [
      "\u001b[1;31m---------------------------------------------------------------------------\u001b[0m",
      "\u001b[1;31mValueError\u001b[0m                                Traceback (most recent call last)",
      "\u001b[1;32mc:\\Users\\measure\\Documents\\labber_AMI430\\AMI430_visa_notebook.ipynb Cell 1\u001b[0m in \u001b[0;36m<cell line: 11>\u001b[1;34m()\u001b[0m\n\u001b[0;32m      <a href='vscode-notebook-cell:/c%3A/Users/measure/Documents/labber_AMI430/AMI430_visa_notebook.ipynb#W0sZmlsZQ%3D%3D?line=8'>9</a>\u001b[0m station \u001b[39m=\u001b[39m get_station()\n\u001b[0;32m     <a href='vscode-notebook-cell:/c%3A/Users/measure/Documents/labber_AMI430/AMI430_visa_notebook.ipynb#W0sZmlsZQ%3D%3D?line=9'>10</a>\u001b[0m visa_station \u001b[39m=\u001b[39m VisaStation(station\u001b[39m=\u001b[39mstation)\n\u001b[1;32m---> <a href='vscode-notebook-cell:/c%3A/Users/measure/Documents/labber_AMI430/AMI430_visa_notebook.ipynb#W0sZmlsZQ%3D%3D?line=10'>11</a>\u001b[0m visa_station\u001b[39m.\u001b[39;49mopen()\n",
      "File \u001b[1;32mc:\\Users\\measure\\Documents\\labber_AMI430\\AMI430_visa.py:110\u001b[0m, in \u001b[0;36mVisaStation.open\u001b[1;34m(self)\u001b[0m\n\u001b[0;32m    108\u001b[0m \u001b[39mif\u001b[39;00m \u001b[39mself\u001b[39m\u001b[39m.\u001b[39mstation\u001b[39m.\u001b[39maxis \u001b[39m==\u001b[39m Axis\u001b[39m.\u001b[39mAXIS3:\n\u001b[0;32m    109\u001b[0m     \u001b[39mself\u001b[39m\u001b[39m.\u001b[39mvisa_magnet_x \u001b[39m=\u001b[39m add_magnet(\u001b[39mself\u001b[39m\u001b[39m.\u001b[39mstation\u001b[39m.\u001b[39mx_axis, name\u001b[39m=\u001b[39m\u001b[39m\"\u001b[39m\u001b[39mX\u001b[39m\u001b[39m\"\u001b[39m)\n\u001b[1;32m--> 110\u001b[0m \u001b[39mself\u001b[39m\u001b[39m.\u001b[39mvisa_magnet_y \u001b[39m=\u001b[39m add_magnet(\u001b[39mself\u001b[39;49m\u001b[39m.\u001b[39;49mstation\u001b[39m.\u001b[39;49my_axis, name\u001b[39m=\u001b[39;49m\u001b[39m\"\u001b[39;49m\u001b[39mY\u001b[39;49m\u001b[39m\"\u001b[39;49m)\n\u001b[0;32m    111\u001b[0m \u001b[39mself\u001b[39m\u001b[39m.\u001b[39mvisa_magnet_z \u001b[39m=\u001b[39m add_magnet(\u001b[39mself\u001b[39m\u001b[39m.\u001b[39mstation\u001b[39m.\u001b[39mz_axis, name\u001b[39m=\u001b[39m\u001b[39m\"\u001b[39m\u001b[39mZ\u001b[39m\u001b[39m\"\u001b[39m)\n",
      "File \u001b[1;32mc:\\Users\\measure\\Documents\\labber_AMI430\\AMI430_visa.py:105\u001b[0m, in \u001b[0;36mVisaStation.open.<locals>.add_magnet\u001b[1;34m(magnet, name)\u001b[0m\n\u001b[0;32m    103\u001b[0m \u001b[39massert\u001b[39;00m \u001b[39misinstance\u001b[39m(name, \u001b[39mstr\u001b[39m)\n\u001b[0;32m    104\u001b[0m visa_magnet \u001b[39m=\u001b[39m VisaMagnet(visa_station\u001b[39m=\u001b[39m\u001b[39mself\u001b[39m, magnet\u001b[39m=\u001b[39mmagnet, name\u001b[39m=\u001b[39mname)\n\u001b[1;32m--> 105\u001b[0m visa_magnet\u001b[39m.\u001b[39;49mopen()\n\u001b[0;32m    106\u001b[0m \u001b[39mreturn\u001b[39;00m visa_magnet\n",
      "File \u001b[1;32mc:\\Users\\measure\\Documents\\labber_AMI430\\AMI430_visa.py:163\u001b[0m, in \u001b[0;36mVisaMagnet.open\u001b[1;34m(self)\u001b[0m\n\u001b[0;32m    160\u001b[0m \u001b[39massert\u001b[39;00m \u001b[39misinstance\u001b[39m(\u001b[39mself\u001b[39m\u001b[39m.\u001b[39mvisa_handle, pyvisa\u001b[39m.\u001b[39mresources\u001b[39m.\u001b[39mMessageBasedResource)\n\u001b[0;32m    162\u001b[0m \u001b[39mself\u001b[39m\u001b[39m.\u001b[39m_visa_clear()\n\u001b[1;32m--> 163\u001b[0m \u001b[39mself\u001b[39;49m\u001b[39m.\u001b[39;49m_visa_init()\n",
      "File \u001b[1;32mc:\\Users\\measure\\Documents\\labber_AMI430\\AMI430_visa.py:186\u001b[0m, in \u001b[0;36mVisaMagnet._visa_init\u001b[1;34m(self)\u001b[0m\n\u001b[0;32m    184\u001b[0m \u001b[39m# self.ask_raw(\"IDN?\")\u001b[39;00m\n\u001b[0;32m    185\u001b[0m \u001b[39mself\u001b[39m\u001b[39m.\u001b[39mask_raw(\u001b[39m\"\u001b[39m\u001b[39m*IDN?\u001b[39m\u001b[39m\"\u001b[39m)\n\u001b[1;32m--> 186\u001b[0m \u001b[39mself\u001b[39;49m\u001b[39m.\u001b[39;49mask_raw(\u001b[39m\"\u001b[39;49m\u001b[39mCOIL?\u001b[39;49m\u001b[39m\"\u001b[39;49m, astype\u001b[39m=\u001b[39;49m\u001b[39mfloat\u001b[39;49m)\n\u001b[0;32m    187\u001b[0m \u001b[39mself\u001b[39m\u001b[39m.\u001b[39mask_raw(\u001b[39m\"\u001b[39m\u001b[39mSTATE?\u001b[39m\u001b[39m\"\u001b[39m, astype\u001b[39m=\u001b[39mAMI430State\u001b[39m.\u001b[39mfrom_visa)\n",
      "File \u001b[1;32mc:\\Users\\measure\\Documents\\labber_AMI430\\AMI430_visa.py:232\u001b[0m, in \u001b[0;36mVisaMagnet.ask_raw\u001b[1;34m(self, cmd, astype)\u001b[0m\n\u001b[0;32m    230\u001b[0m     \u001b[39mself\u001b[39m\u001b[39m.\u001b[39mdebug(\u001b[39mf\u001b[39m\u001b[39m\"\u001b[39m\u001b[39mResponse: \u001b[39m\u001b[39m'\u001b[39m\u001b[39m{\u001b[39;00mresponse\u001b[39m}\u001b[39;00m\u001b[39m'\u001b[39m\u001b[39m\"\u001b[39m)\n\u001b[0;32m    231\u001b[0m     \u001b[39mreturn\u001b[39;00m response\n\u001b[1;32m--> 232\u001b[0m response_type \u001b[39m=\u001b[39m astype(response)\n\u001b[0;32m    233\u001b[0m \u001b[39mself\u001b[39m\u001b[39m.\u001b[39mdebug(\u001b[39mf\u001b[39m\u001b[39m\"\u001b[39m\u001b[39mResponse: \u001b[39m\u001b[39m{\u001b[39;00m\u001b[39mrepr\u001b[39m(response_type)\u001b[39m}\u001b[39;00m\u001b[39m\"\u001b[39m)\n\u001b[0;32m    234\u001b[0m \u001b[39mreturn\u001b[39;00m response_type\n",
      "\u001b[1;31mValueError\u001b[0m: could not convert string to float: 'Hello.\\r'"
     ]
    }
   ],
   "source": [
    "import logging\n",
    "from AMI430_driver_config_sofia import get_station\n",
    "from AMI430_visa import VisaStation\n",
    "\n",
    "logging.basicConfig(level=logging.DEBUG)\n",
    "logger = logging.getLogger(\"LabberDriver\")\n",
    "logger.setLevel(logging.DEBUG)\n",
    "\n",
    "station = get_station()\n",
    "visa_station = VisaStation(station=station)\n",
    "visa_station.open()\n"
   ]
  },
  {
   "cell_type": "code",
   "execution_count": 2,
   "metadata": {},
   "outputs": [],
   "source": [
    "import numpy as np "
   ]
  },
  {
   "cell_type": "code",
   "execution_count": 8,
   "metadata": {},
   "outputs": [
    {
     "name": "stderr",
     "output_type": "stream",
     "text": [
      "DEBUG:LabberDriver:X Writing: RAMP\n",
      "DEBUG:LabberDriver:Y Writing: RAMP\n",
      "DEBUG:LabberDriver:Z Writing: RAMP\n"
     ]
    }
   ],
   "source": [
    "visa_station.visa_magnet_x.field_setpoint = 2.0\n",
    "visa_station.visa_magnet_y.field_setpoint = 3.0\n",
    "visa_station.visa_magnet_z.field_setpoint = 4.0\n",
    "visa_station.ramping()"
   ]
  },
  {
   "cell_type": "code",
   "execution_count": null,
   "metadata": {},
   "outputs": [],
   "source": []
  }
 ],
 "metadata": {
  "kernelspec": {
   "display_name": "Python 3.9.12 ('qcodes')",
   "language": "python",
   "name": "python3"
  },
  "language_info": {
   "codemirror_mode": {
    "name": "ipython",
    "version": 3
   },
   "file_extension": ".py",
   "mimetype": "text/x-python",
   "name": "python",
   "nbconvert_exporter": "python",
   "pygments_lexer": "ipython3",
   "version": "3.9.12"
  },
  "orig_nbformat": 4,
  "vscode": {
   "interpreter": {
    "hash": "474a36e610e757759f70cf53d6687fb0151bd8f7398ab0e21513a39d054b091f"
   }
  }
 },
 "nbformat": 4,
 "nbformat_minor": 2
}
