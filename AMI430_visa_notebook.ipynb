{
 "cells": [
  {
   "cell_type": "code",
   "execution_count": 7,
   "metadata": {},
   "outputs": [
    {
     "name": "stderr",
     "output_type": "stream",
     "text": [
      "DEBUG:LabberDriver:X Querying: *IDN?\n",
      "DEBUG:LabberDriver:X Response: 'QCoDeS, AMI430_simulation, 1337, 0.0.01'\n",
      "DEBUG:LabberDriver:X Querying: COIL?\n",
      "DEBUG:LabberDriver:X Response: 2.0\n",
      "DEBUG:LabberDriver:X Querying: STATE?\n",
      "DEBUG:LabberDriver:X Response: <AMI430State.HOLDING: 2>\n",
      "DEBUG:LabberDriver:Y Querying: *IDN?\n",
      "DEBUG:LabberDriver:Y Response: 'QCoDeS, AMI430_simulation, 1337, 0.0.01'\n",
      "DEBUG:LabberDriver:Y Querying: COIL?\n",
      "DEBUG:LabberDriver:Y Response: 2.0\n",
      "DEBUG:LabberDriver:Y Querying: STATE?\n",
      "DEBUG:LabberDriver:Y Response: <AMI430State.HOLDING: 2>\n",
      "DEBUG:LabberDriver:Z Querying: *IDN?\n",
      "DEBUG:LabberDriver:Z Response: 'QCoDeS, AMI430_simulation, 1337, 0.0.01'\n",
      "DEBUG:LabberDriver:Z Querying: COIL?\n",
      "DEBUG:LabberDriver:Z Response: 2.0\n",
      "DEBUG:LabberDriver:Z Querying: STATE?\n",
      "DEBUG:LabberDriver:Z Response: <AMI430State.HOLDING: 2>\n"
     ]
    }
   ],
   "source": [
    "import logging\n",
    "from AMI430_driver_config_simulation import get_station\n",
    "from AMI430_visa import VisaStation\n",
    "\n",
    "logging.basicConfig(level=logging.debug)\n",
    "logger = logging.getLogger(\"LabberDriver\")\n",
    "logger.setLevel(logging.DEBUG)\n",
    "\n",
    "station = get_station()\n",
    "visa_station = VisaStation(station=station)\n",
    "visa_station.open()\n"
   ]
  },
  {
   "cell_type": "code",
   "execution_count": 8,
   "metadata": {},
   "outputs": [
    {
     "name": "stderr",
     "output_type": "stream",
     "text": [
      "DEBUG:LabberDriver:X Writing: RAMP\n",
      "DEBUG:LabberDriver:Y Writing: RAMP\n",
      "DEBUG:LabberDriver:Z Writing: RAMP\n"
     ]
    }
   ],
   "source": [
    "visa_station.visa_magnet_x.field_setpoint = 2.0\n",
    "visa_station.visa_magnet_y.field_setpoint = 3.0\n",
    "visa_station.visa_magnet_z.field_setpoint = 4.0\n",
    "visa_station.ramping()"
   ]
  },
  {
   "cell_type": "code",
   "execution_count": null,
   "metadata": {},
   "outputs": [],
   "source": []
  }
 ],
 "metadata": {
  "kernelspec": {
   "display_name": "Python 3.7.9 64-bit",
   "language": "python",
   "name": "python3"
  },
  "language_info": {
   "codemirror_mode": {
    "name": "ipython",
    "version": 3
   },
   "file_extension": ".py",
   "mimetype": "text/x-python",
   "name": "python",
   "nbconvert_exporter": "python",
   "pygments_lexer": "ipython3",
   "version": "3.7.9"
  },
  "orig_nbformat": 4,
  "vscode": {
   "interpreter": {
    "hash": "cfbe76c6bbdc044ca064cd3f88897a3f4192949a00c0f1cf21cc25d296425b3a"
   }
  }
 },
 "nbformat": 4,
 "nbformat_minor": 2
}
