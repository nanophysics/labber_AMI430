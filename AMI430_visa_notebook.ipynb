{
 "cells": [
  {
   "cell_type": "code",
   "execution_count": 3,
   "metadata": {},
   "outputs": [],
   "source": [
    "import logging\n",
    "from AMI430_driver_config_simulation import get_station\n",
    "from AMI430_visa import VisaStation\n",
    "\n",
    "logging.basicConfig()\n",
    "# logging.setLevel(logging.DEBUG)\n",
    "\n",
    "station = get_station()\n",
    "visa_station = VisaStation(station=station)\n",
    "visa_station.open()\n"
   ]
  },
  {
   "cell_type": "code",
   "execution_count": 4,
   "metadata": {},
   "outputs": [],
   "source": [
    "visa_station.visa_magnet_x.field_setpoint = 2.0\n",
    "visa_station.visa_magnet_y.field_setpoint = 3.0\n",
    "visa_station.visa_magnet_z.field_setpoint = 4.0\n",
    "visa_station.ramping()"
   ]
  },
  {
   "cell_type": "code",
   "execution_count": null,
   "metadata": {},
   "outputs": [],
   "source": []
  }
 ],
 "metadata": {
  "kernelspec": {
   "display_name": "Python 3.7.9 64-bit",
   "language": "python",
   "name": "python3"
  },
  "language_info": {
   "codemirror_mode": {
    "name": "ipython",
    "version": 3
   },
   "file_extension": ".py",
   "mimetype": "text/x-python",
   "name": "python",
   "nbconvert_exporter": "python",
   "pygments_lexer": "ipython3",
   "version": "3.7.9"
  },
  "orig_nbformat": 4,
  "vscode": {
   "interpreter": {
    "hash": "cfbe76c6bbdc044ca064cd3f88897a3f4192949a00c0f1cf21cc25d296425b3a"
   }
  }
 },
 "nbformat": 4,
 "nbformat_minor": 2
}
