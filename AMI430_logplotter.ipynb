{
 "cells": [
  {
   "cell_type": "code",
   "execution_count": 1,
   "metadata": {},
   "outputs": [
    {
     "name": "stdout",
     "output_type": "stream",
     "text": [
      "Using matplotlib backend: Qt5Agg\n"
     ]
    }
   ],
   "source": [
    "from AMI430_logplotter import Plotter\n",
    "import pathlib \n",
    "import matplotlib.pyplot as plt \n",
    "import numpy \n",
    "from AMI430_logparser import *\n",
    "from AMI430_visa import *\n",
    "from AMI430_utils import *\n",
    "from datetime import datetime, timedelta\n",
    "from matplotlib.widgets import MultiCursor\n",
    "from datetime import datetime\n",
    "%matplotlib "
   ]
  },
  {
   "cell_type": "code",
   "execution_count": 2,
   "metadata": {},
   "outputs": [],
   "source": [
    "filename = pathlib.Path(\"tmp_AMI430_Sofia.log\")"
   ]
  },
  {
   "cell_type": "code",
   "execution_count": 3,
   "metadata": {},
   "outputs": [],
   "source": [
    "dataframes = (\n",
    "    # dfMagnetField(@x@),\n",
    "    DataFrameMagnetField(\n",
    "        \"Magnet Field\", logger_tag=LoggerTags.MAGNET_FIELD, magnet=\"Z\"\n",
    "    ),\n",
    "    DataFrameMagnetField(\n",
    "        \"Magnet Field\", logger_tag=LoggerTags.MAGNET_FIELD, magnet=\"Y\"\n",
    "    ),\n",
    "    DataFrameMagnetField(\n",
    "        \"Magnet Field\", logger_tag=LoggerTags.MAGNET_FIELD, magnet=\"X\"\n",
    "    ),\n",
    "    DataFrameMagnetState(\n",
    "        \"Magnet State\", logger_tag=LoggerTags.MAGNET_STATE, magnet=\"Z\"\n",
    "    ),\n",
    "    DataFrameMagnetState(\n",
    "        \"Magnet State\", logger_tag=LoggerTags.MAGNET_STATE, magnet=\"Y\"\n",
    "    ),\n",
    "    DataFrameMagnetState(\n",
    "        \"Magnet State\", logger_tag=LoggerTags.MAGNET_STATE, magnet=\"X\"\n",
    "    ),\n",
    "    DataframeBase(\"Labber State\", logger_tag=LoggerTags.LABBER_STATE),\n",
    "    DataFrameSetpoint('Setpoint', logger_tag = LoggerTags.LABBER_SET, magnet = 'Z'),\n",
    "    DataFrameSetpoint('Setpoint', logger_tag = LoggerTags.LABBER_SET, magnet = 'Y'),\n",
    "    DataFrameSetpoint('Setpoint', logger_tag = LoggerTags.LABBER_SET, magnet = 'X'),\n",
    "    DataframeBase(\"Ramping Duration\", logger_tag = LoggerTags.RAMPING_DURATION_S)\n",
    ")\n",
    "\n"
   ]
  },
  {
   "cell_type": "code",
   "execution_count": 4,
   "metadata": {},
   "outputs": [],
   "source": [
    "timewindow = [\"2022-10-31\", \"2022-11-10\"]\n",
    "\n",
    "# plotter = Plotter(dataframes, filename,timewindow) # Keep this separate otherwise the dataframes are parsed several times.\n",
    "plotter = Plotter(dataframes, filename,timewindow)"
   ]
  },
  {
   "cell_type": "markdown",
   "metadata": {},
   "source": [
    "with timewindow of 1W: 24.9s  \n",
    "with no timewindow: 18.2s \n",
    "\n",
    "It seems it makes the process inefficient"
   ]
  },
  {
   "cell_type": "code",
   "execution_count": 5,
   "metadata": {},
   "outputs": [],
   "source": [
    "fig, (ax1, ax2, ax3, ax4,ax5) = plt.subplots(5, 1, sharex=True)\n",
    "\n",
    "\n",
    "plotter.plot(LoggerTags.MAGNET_FIELD, ax1)\n",
    "plotter.plot(LoggerTags.MAGNET_STATE, ax2)\n",
    "# plotter.plot(LoggerTags.MAGNET_STATE, ax2)\n",
    "plotter.plot(LoggerTags.LABBER_STATE, ax3)\n",
    "plotter.plot(LoggerTags.LABBER_SET,ax4)\n",
    "plotter.plot(LoggerTags.RAMPING_DURATION_S,ax5)\n",
    "multi = MultiCursor(fig.canvas, (ax1, ax2, ax3, ax4), color=\"r\", lw=1)\n",
    "# dates = [datetime(2022, 10, 24, 0, 0, 0), datetime(2022, 10, 24, 23, 0, 0)]\n",
    "# plotter.plot_timewindow(dates, fig)\n",
    "plotter.highlight_state(fig, LoggerTags.LABBER_STATE, state=LabberState.HOLDING)\n",
    "plt.show()\n"
   ]
  }
 ],
 "metadata": {
  "kernelspec": {
   "display_name": "Python 3.8.1 ('ml')",
   "language": "python",
   "name": "python3"
  },
  "language_info": {
   "codemirror_mode": {
    "name": "ipython",
    "version": 3
   },
   "file_extension": ".py",
   "mimetype": "text/x-python",
   "name": "python",
   "nbconvert_exporter": "python",
   "pygments_lexer": "ipython3",
   "version": "3.8.1"
  },
  "orig_nbformat": 4,
  "vscode": {
   "interpreter": {
    "hash": "60fcc42096b9b9c7e6d5e235fa46149d0f313a6625fe85415d27cd61d0a8e722"
   }
  }
 },
 "nbformat": 4,
 "nbformat_minor": 2
}
