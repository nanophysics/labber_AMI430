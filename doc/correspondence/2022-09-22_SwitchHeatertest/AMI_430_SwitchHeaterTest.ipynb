{
 "cells": [
  {
   "cell_type": "code",
   "execution_count": 2,
   "metadata": {},
   "outputs": [],
   "source": [
    "import time \n",
    "import numpy as np \n",
    "import matplotlib.pyplot as plt\n",
    "from qcodes.instrument_drivers.american_magnetics.AMI430_visa import AMI430, AMI430_3D, AMI430SwitchHeater\n",
    "from qcodes.math_utils.field_vector import FieldVector"
   ]
  },
  {
   "cell_type": "code",
   "execution_count": 3,
   "metadata": {},
   "outputs": [
    {
     "name": "stdout",
     "output_type": "stream",
     "text": [
      "Connected to: AMERICAN MAGNETICS INC. 430 (serial:430-22-055, firmware:3.15) in 1.45s\n"
     ]
    }
   ],
   "source": [
    "iz = AMI430(\"z\", address=\"TCPIP0::169.254.201.182::7180::SOCKET\")\n",
    "instrument = iz"
   ]
  },
  {
   "cell_type": "code",
   "execution_count": 4,
   "metadata": {},
   "outputs": [
    {
     "name": "stdout",
     "output_type": "stream",
     "text": [
      "The use of a switchheater is enabeled True\n",
      "switchheater current 20.1 mA\n",
      "Heat time 30 s\n",
      "Cool time 600 s\n"
     ]
    }
   ],
   "source": [
    "print('The use of a switchheater is enabeled', instrument.switch_heater.check_enabled())\n",
    "print('switchheater current', instrument.switch_heater.current.get(),instrument.switch_heater.current.unit)\n",
    "print('Heat time', instrument.switch_heater.heat_time.get(), instrument.switch_heater.heat_time.unit)\n",
    "print('Cool time', instrument.switch_heater.cool_time.get(),instrument.switch_heater.cool_time.unit)\n"
   ]
  },
  {
   "cell_type": "code",
   "execution_count": 5,
   "metadata": {},
   "outputs": [],
   "source": [
    "\n",
    "def set_calibration(instrument):\n",
    "    # Coil settings\n",
    "    # Order of initialitaion matter when the units were set to something strange. \n",
    "    instrument.field_units.set('tesla')\n",
    "    instrument.ramp_rate_units('seconds')\n",
    "    instrument.coil_constant.set(6/61.98) # Tesla/Ampere\n",
    "    instrument.current_limit.set(61.98) # Ampere\n",
    "    instrument.field_limit.set(6) # Tesla\n",
    "    instrument.current_ramp_limit.set(0.0909) # Ampere/second\n",
    "    instrument.field_ramp_limit.set(0.0909*6/61.98) # Tesla/second\n",
    "    instrument.inductance.set(11)\n",
    "    instrument.stability_parameter.set(0)\n",
    "    instrument.ramp_rate.set(0.001) # Tesla/Second\n",
    "    \n",
    "    # Switch heater settings\n",
    "    instrument.switch_heater.enable()\n",
    "    instrument.switch_heater.heat_time.set(30) # seconds\n",
    "    instrument.switch_heater.cool_time.set(600) # seconds\n",
    "    instrument.switch_heater.current.set(20.1) # mA\n",
    "    instrument.switch_heater.persistent_current_ramp_rate.set(10) #Ampere/s\n",
    "    return \n",
    "\n",
    "set_calibration(instrument)\n",
    "\n"
   ]
  },
  {
   "cell_type": "markdown",
   "metadata": {},
   "source": [
    "# Testing a full ramp with switch heater\n",
    "\n",
    "- Option 1:\n",
    "    - Read current on supply and magnet\n",
    "    - Turn on switch heater \n",
    "    - Ramp to field \n",
    "    - Read the current on supply and magnet\n",
    "    - Turn off switch heater \n",
    "    - Read the current on supply and magnet \n",
    "    - Turn on switch heater \n",
    "    - Read the current on supply and magnet \n",
    "    - Ramp down and turn off switch heater \n",
    "- Option 2: \n",
    "    - Same as Option 1 but check if we can deenergize the leads when the field is ramped.\n",
    "\n",
    "## Option 1:"
   ]
  },
  {
   "cell_type": "code",
   "execution_count": 7,
   "metadata": {},
   "outputs": [],
   "source": [
    "def print_currents(isntrument):\n",
    "    print('Supply current', instrument.current_supply.get(), instrument.current_supply.unit)\n",
    "    print('Magnet current', instrument.current_magnet.get(), instrument.current_magnet.unit)\n",
    "    return "
   ]
  },
  {
   "cell_type": "code",
   "execution_count": 11,
   "metadata": {},
   "outputs": [],
   "source": [
    "\n",
    "\n",
    "\n",
    "\n",
    "#instrument.switch_heater.on()\n",
    "\n",
    "#instrument.field.set(0.001)"
   ]
  },
  {
   "cell_type": "code",
   "execution_count": 12,
   "metadata": {},
   "outputs": [],
   "source": [
    "#instrument.field.set(0.001)"
   ]
  },
  {
   "cell_type": "code",
   "execution_count": 13,
   "metadata": {},
   "outputs": [],
   "source": [
    "#instrument.switch_heater.off()"
   ]
  },
  {
   "cell_type": "code",
   "execution_count": 14,
   "metadata": {},
   "outputs": [],
   "source": [
    "#instrument.switch_heater.on()\n",
    "#instrument.field.set(0)"
   ]
  },
  {
   "cell_type": "markdown",
   "metadata": {},
   "source": [
    "It seems to me that there is no automated switch heater sweep command in the AMI 430 qcodes driver. the sates of the heaters have to be set manually."
   ]
  },
  {
   "cell_type": "markdown",
   "metadata": {},
   "source": [
    "I dont understand the difference between the two commands. \n",
    "\n",
    "instrument.switch_heater.state :\n",
    "The switchheater state has False or True as a output \n",
    "Asks for PS?\n",
    "instrument.switch_heater.in_persistent_mode\n",
    "Returns true and false \n",
    "Asks for PERS?\n"
   ]
  },
  {
   "cell_type": "markdown",
   "metadata": {},
   "source": [
    "\n",
    "From p177\n",
    "• PSwitch {0|1}\n",
    "Turns the persistent switch heater OFF and ON. Sending “0” turns the\n",
    "switch heater OFF. Sending a “1” turns the switch heater ON. Them\n",
    "default value is “0”.\n",
    "• PSwitch?\n",
    "Returns a “0” indicating the switch heater is OFF, or a “1” indicating the\n",
    "persistent switch heater is ON.\n",
    "\n",
    "• PERSistent?\n",
    "Returns the state of the MAGNET IN PERSISTENT MODE LED on the\n",
    "front panel of the Model 430: “0” if the LED is OFF; “1” if the LED is ON.\n",
    "\n",
    "\n"
   ]
  },
  {
   "cell_type": "markdown",
   "metadata": {},
   "source": [
    "I dont understand exactly what the difference is here. "
   ]
  },
  {
   "cell_type": "markdown",
   "metadata": {},
   "source": [
    "\n",
    "From p 135 136 \n",
    "\n",
    "We have the following commands available: \n",
    "\n",
    "-   CONFigure:PSwitch {0|1}\n",
    "    0 No switch installed 1 switch installed \n",
    "-   CONFigure:PSwitch:CURRent <current (A)>\n",
    "    Documentation on page 161 states that we set the state in mA makes more sense to me.\n",
    "-   CONFigure:PSwitch:TRANsition {0|1}\n",
    "    0 Timer based transition 1 Voltage based transition \n",
    "\n",
    "-   CONFigure:PSwitch:HeatTIME <time (sec)>\n",
    "-   CONFigure:PSwitch:CoolTIME <time (sec)>\n",
    "-   CONFigure:PSwitch:PowerSupplyRampRate <rate (A/s)>\n",
    "    Ramp rate of the current once the persisten switch is in the cooled state.\n",
    "    Can be a lot higher than the ramp rate we usually use. See p58 of the manual for further information.\n",
    "-   CONFigure:PSwitch:CoolingGAIN <percent>\n",
    "    Dont understand this.\n",
    "-   PSwitch:INSTalled?\n",
    "-   PSwitch:AUTODetect?\n",
    "-   PSwitch:CURRent?\n",
    "-   PSwitch:TRANsition?\n",
    "-   PSwitch:HeatTIME?\n",
    "-   PSwitch:CoolTIME?\n",
    "-   PSwitch:PowerSupplyRampRate?\n",
    "-   PSwitch:CoolingGAIN?\n",
    "\n",
    "\n",
    "We follow the following ramp up procedure:\n",
    "\n",
    "1.  CONFigure:PSwitch {0|1} set to 1 to indicate persistent switch is installed \n",
    "2.  CONFigure:PSwitch:CURRent <current (A)> then we set the current \n",
    "    -   The PSwitch:AUTODetect? command does an autodetect of the needed current. \n",
    "        We dont need this mehtod \n",
    "3.  CONFigure:PSwitch:HeatTIME <time (sec)>\n",
    "4.  CONFigure:PSwitch:CoolTIME <time (sec)>\n",
    "5.  CONFigure:PSwitch:PowerSupplyRampRate <rate (A/s)>\n"
   ]
  },
  {
   "cell_type": "markdown",
   "metadata": {},
   "source": [
    "How does the Code perform a ramp with a persisitent switch installed. \n",
    "I focus only on the switch heater checks here. \n",
    "\n",
    "-   Check the state of the switch heater. Raise error if its not resisitive\n",
    "\n",
    "I need to understand what the difference between switch heater enabled and switch heater on is."
   ]
  }
 ],
 "metadata": {
  "kernelspec": {
   "display_name": "Python 3.9.12 ('qcodes')",
   "language": "python",
   "name": "python3"
  },
  "language_info": {
   "codemirror_mode": {
    "name": "ipython",
    "version": 3
   },
   "file_extension": ".py",
   "mimetype": "text/x-python",
   "name": "python",
   "nbconvert_exporter": "python",
   "pygments_lexer": "ipython3",
   "version": "3.9.12"
  },
  "orig_nbformat": 4,
  "vscode": {
   "interpreter": {
    "hash": "474a36e610e757759f70cf53d6687fb0151bd8f7398ab0e21513a39d054b091f"
   }
  }
 },
 "nbformat": 4,
 "nbformat_minor": 2
}
