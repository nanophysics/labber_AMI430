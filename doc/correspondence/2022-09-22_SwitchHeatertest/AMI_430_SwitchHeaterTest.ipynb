{
 "cells": [
  {
   "cell_type": "code",
   "execution_count": 1,
   "metadata": {},
   "outputs": [
    {
     "name": "stderr",
     "output_type": "stream",
     "text": [
      "NoTagError: `git describe` could not find a tag\n"
     ]
    }
   ],
   "source": [
    "import time \n",
    "import numpy as np \n",
    "import matplotlib.pyplot as plt\n",
    "from qcodes import logger\n",
    "from qcodes.instrument_drivers.american_magnetics.AMI430_visa import AMI430, AMI430_3D, AMI430SwitchHeater\n",
    "from qcodes.math_utils.field_vector import FieldVector"
   ]
  },
  {
   "cell_type": "code",
   "execution_count": 2,
   "metadata": {},
   "outputs": [
    {
     "name": "stdout",
     "output_type": "stream",
     "text": [
      "Logging hadn't been started.\n",
      "Activating auto-logging. Current session state plus future input saved.\n",
      "Filename       : C:\\Users\\measure\\.qcodes\\logs\\command_history.log\n",
      "Mode           : append\n",
      "Output logging : True\n",
      "Raw input log  : False\n",
      "Timestamping   : True\n",
      "State          : active\n",
      "Qcodes Logfile : C:\\Users\\measure\\.qcodes\\logs\\220926-12796-qcodes.log\n"
     ]
    }
   ],
   "source": [
    "logger.start_all_logging()"
   ]
  },
  {
   "cell_type": "code",
   "execution_count": 6,
   "metadata": {},
   "outputs": [
    {
     "ename": "TypeError",
     "evalue": "get_level_name() missing 1 required positional argument: 'level'",
     "output_type": "error",
     "traceback": [
      "\u001b[1;31m---------------------------------------------------------------------------\u001b[0m",
      "\u001b[1;31mTypeError\u001b[0m                                 Traceback (most recent call last)",
      "\u001b[1;32mc:\\Users\\measure\\Documents\\labber_AMI430\\doc\\correspondence\\2022-09-22_SwitchHeatertest\\AMI_430_SwitchHeaterTest.ipynb Cell 3\u001b[0m in \u001b[0;36m<cell line: 1>\u001b[1;34m()\u001b[0m\n\u001b[1;32m----> <a href='vscode-notebook-cell:/c%3A/Users/measure/Documents/labber_AMI430/doc/correspondence/2022-09-22_SwitchHeatertest/AMI_430_SwitchHeaterTest.ipynb#X42sZmlsZQ%3D%3D?line=0'>1</a>\u001b[0m logger\u001b[39m.\u001b[39;49mget_level_name()\n",
      "\u001b[1;31mTypeError\u001b[0m: get_level_name() missing 1 required positional argument: 'level'"
     ]
    }
   ],
   "source": [
    "logger.get_level_name()"
   ]
  },
  {
   "cell_type": "code",
   "execution_count": 3,
   "metadata": {},
   "outputs": [
    {
     "name": "stdout",
     "output_type": "stream",
     "text": [
      "Connected to: AMERICAN MAGNETICS INC. 430 (serial:430-22-055, firmware:3.15) in 1.65s\n"
     ]
    }
   ],
   "source": [
    "iz = AMI430(\"z\", address=\"TCPIP0::169.254.201.182::7180::SOCKET\")\n",
    "instrument = iz"
   ]
  },
  {
   "cell_type": "code",
   "execution_count": 5,
   "metadata": {},
   "outputs": [
    {
     "name": "stderr",
     "output_type": "stream",
     "text": [
      "2022-09-26 09:05:23,784 ¦ qcodes.instrument.instrument_base.com.visa ¦ DEBUG ¦ visa ¦ ask_raw ¦ 219 ¦ [z(AMI430)] Querying: PS:HTIME?\n",
      "2022-09-26 09:05:23,874 ¦ qcodes.instrument.instrument_base.com.visa ¦ DEBUG ¦ visa ¦ ask_raw ¦ 221 ¦ [z(AMI430)] Response: 30\n"
     ]
    }
   ],
   "source": [
    "with logger.console_level('DEBUG'):\n",
    "    instrument.switch_heater.heat_time.get()"
   ]
  },
  {
   "cell_type": "code",
   "execution_count": 4,
   "metadata": {},
   "outputs": [
    {
     "name": "stdout",
     "output_type": "stream",
     "text": [
      "The use of a switchheater is enabeled True\n",
      "switchheater current 20.1 mA\n",
      "Heat time 30 s\n",
      "Cool time 600 s\n"
     ]
    }
   ],
   "source": [
    "print('The use of a switchheater is enabeled', instrument.switch_heater.check_enabled())\n",
    "print('switchheater current', instrument.switch_heater.current.get(),instrument.switch_heater.current.unit)\n",
    "print('Heat time', instrument.switch_heater.heat_time.get(), instrument.switch_heater.heat_time.unit)\n",
    "print('Cool time', instrument.switch_heater.cool_time.get(),instrument.switch_heater.cool_time.unit)\n"
   ]
  },
  {
   "cell_type": "code",
   "execution_count": 5,
   "metadata": {},
   "outputs": [],
   "source": [
    "\n",
    "def set_calibration(instrument):\n",
    "    # Coil settings\n",
    "    # Order of initialitaion matter when the units were set to something strange. \n",
    "    instrument.field_units.set('tesla')\n",
    "    instrument.ramp_rate_units('seconds')\n",
    "    instrument.coil_constant.set(6/61.98) # Tesla/Ampere\n",
    "    instrument.current_limit.set(61.98) # Ampere\n",
    "    instrument.field_limit.set(6) # Tesla\n",
    "    instrument.current_ramp_limit.set(0.0909) # Ampere/second\n",
    "    instrument.field_ramp_limit.set(0.0909*6/61.98) # Tesla/second\n",
    "    instrument.inductance.set(11)\n",
    "    instrument.stability_parameter.set(0)\n",
    "    instrument.ramp_rate.set(0.001) # Tesla/Second\n",
    "    \n",
    "    # Switch heater settings\n",
    "    instrument.switch_heater.enable()\n",
    "    instrument.switch_heater.heat_time.set(30) # seconds\n",
    "    instrument.switch_heater.cool_time.set(600) # seconds\n",
    "    instrument.switch_heater.current.set(20.1) # mA\n",
    "    instrument.switch_heater.persistent_current_ramp_rate.set(10) #Ampere/s\n",
    "    return \n",
    "\n",
    "set_calibration(instrument)\n",
    "\n"
   ]
  },
  {
   "cell_type": "markdown",
   "metadata": {},
   "source": [
    "# Testing a full ramp with switch heater\n",
    "\n",
    "- Option 1:\n",
    "    - Read current on supply and magnet\n",
    "    - Turn on switch heater \n",
    "    - Ramp to field \n",
    "    - Read the current on supply and magnet\n",
    "    - Turn off switch heater \n",
    "    - Read the current on supply and magnet \n",
    "    - Turn on switch heater \n",
    "    - Read the current on supply and magnet \n",
    "    - Ramp down and turn off switch heater \n",
    "- Option 2: \n",
    "    - Same as Option 1 but check if we can deenergize the leads when the field is ramped.\n",
    "\n",
    "## Option 1:"
   ]
  },
  {
   "cell_type": "code",
   "execution_count": 8,
   "metadata": {},
   "outputs": [],
   "source": [
    "def print_currents(isntrument):\n",
    "    print('Supply current', instrument.current_supply.get(), instrument.current_supply.unit)\n",
    "    print('Magnet current', instrument.current_magnet.get(), instrument.current_magnet.unit)\n",
    "    return "
   ]
  },
  {
   "cell_type": "code",
   "execution_count": 10,
   "metadata": {},
   "outputs": [
    {
     "name": "stdout",
     "output_type": "stream",
     "text": [
      "Supply current -0.00562454 A\n",
      "Magnet current 0.01033000 A\n"
     ]
    }
   ],
   "source": [
    "print_currents(instrument)\n",
    "\n",
    "\n",
    "\n"
   ]
  },
  {
   "cell_type": "code",
   "execution_count": 11,
   "metadata": {},
   "outputs": [
    {
     "ename": "TypeError",
     "evalue": "print_currents() missing 1 required positional argument: 'isntrument'",
     "output_type": "error",
     "traceback": [
      "\u001b[1;31m---------------------------------------------------------------------------\u001b[0m",
      "\u001b[1;31mTypeError\u001b[0m                                 Traceback (most recent call last)",
      "\u001b[1;32mc:\\Users\\measure\\Documents\\labber_AMI430\\doc\\correspondence\\2022-09-22_SwitchHeatertest\\AMI_430_SwitchHeaterTest.ipynb Cell 8\u001b[0m in \u001b[0;36m<cell line: 3>\u001b[1;34m()\u001b[0m\n\u001b[0;32m      <a href='vscode-notebook-cell:/c%3A/Users/measure/Documents/labber_AMI430/doc/correspondence/2022-09-22_SwitchHeatertest/AMI_430_SwitchHeaterTest.ipynb#X23sZmlsZQ%3D%3D?line=0'>1</a>\u001b[0m instrument\u001b[39m.\u001b[39mswitch_heater\u001b[39m.\u001b[39mon()\n\u001b[0;32m      <a href='vscode-notebook-cell:/c%3A/Users/measure/Documents/labber_AMI430/doc/correspondence/2022-09-22_SwitchHeatertest/AMI_430_SwitchHeaterTest.ipynb#X23sZmlsZQ%3D%3D?line=1'>2</a>\u001b[0m instrument\u001b[39m.\u001b[39mfield\u001b[39m.\u001b[39mset(\u001b[39m0.01\u001b[39m)\n\u001b[1;32m----> <a href='vscode-notebook-cell:/c%3A/Users/measure/Documents/labber_AMI430/doc/correspondence/2022-09-22_SwitchHeatertest/AMI_430_SwitchHeaterTest.ipynb#X23sZmlsZQ%3D%3D?line=2'>3</a>\u001b[0m print_currents()\n",
      "\u001b[1;31mTypeError\u001b[0m: print_currents() missing 1 required positional argument: 'isntrument'"
     ]
    }
   ],
   "source": [
    "instrument.switch_heater.on()\n",
    "instrument.field.set(0.01)\n"
   ]
  },
  {
   "cell_type": "code",
   "execution_count": 12,
   "metadata": {},
   "outputs": [
    {
     "name": "stdout",
     "output_type": "stream",
     "text": [
      "Supply current 0.10290021 A\n",
      "Magnet current 0.10362355 A\n"
     ]
    }
   ],
   "source": [
    "print_currents(instrument)"
   ]
  },
  {
   "cell_type": "code",
   "execution_count": 13,
   "metadata": {},
   "outputs": [
    {
     "name": "stdout",
     "output_type": "stream",
     "text": [
      "Supply current 0.10307198 A\n",
      "Magnet current 0.10330000 A\n"
     ]
    }
   ],
   "source": [
    "instrument.switch_heater.off()\n",
    "print_currents(instrument)"
   ]
  },
  {
   "cell_type": "code",
   "execution_count": 15,
   "metadata": {},
   "outputs": [],
   "source": [
    "instrument.switch_heater.on()\n"
   ]
  },
  {
   "cell_type": "code",
   "execution_count": 16,
   "metadata": {},
   "outputs": [
    {
     "name": "stdout",
     "output_type": "stream",
     "text": [
      "Supply current 0.10418276 A\n",
      "Magnet current 0.10412551 A\n",
      "Supply current 0.00813239 A\n",
      "Magnet current 0.00731934 A\n",
      "Supply current 0.00521420 A\n",
      "Magnet current 0.00000000 A\n"
     ]
    }
   ],
   "source": [
    "print_currents(instrument)\n",
    "instrument.field.set(0)\n",
    "print_currents(instrument)\n",
    "instrument.switch_heater.off()\n",
    "print_currents(instrument)"
   ]
  },
  {
   "cell_type": "markdown",
   "metadata": {},
   "source": [
    "## Option 2"
   ]
  },
  {
   "cell_type": "code",
   "execution_count": 17,
   "metadata": {},
   "outputs": [
    {
     "name": "stdout",
     "output_type": "stream",
     "text": [
      "Supply current 0.00403279 A\n",
      "Magnet current 0.00000000 A\n",
      "Supply current 0.10308916 A\n",
      "Magnet current 0.10322466 A\n",
      "Supply current 0.10358347 A\n",
      "Magnet current 0.10330000 A\n"
     ]
    }
   ],
   "source": [
    "print_currents(instrument)\n",
    "instrument.switch_heater.on()\n",
    "instrument.field.set(0.01)\n",
    "print_currents(instrument)\n",
    "instrument.switch_heater.off()\n",
    "print_currents(instrument)"
   ]
  },
  {
   "cell_type": "code",
   "execution_count": 18,
   "metadata": {},
   "outputs": [
    {
     "name": "stdout",
     "output_type": "stream",
     "text": [
      "Supply current 0.10399000 A\n",
      "Magnet current 0.10330000 A\n"
     ]
    }
   ],
   "source": [
    "instrument.zero()\n",
    "print_currents(instrument)"
   ]
  },
  {
   "cell_type": "code",
   "execution_count": 20,
   "metadata": {},
   "outputs": [
    {
     "name": "stdout",
     "output_type": "stream",
     "text": [
      "Supply current 0.00294873 A\n",
      "Magnet current 0.10330000 A\n",
      "at zero current\n"
     ]
    }
   ],
   "source": [
    "print_currents(instrument)\n",
    "print(instrument.ramping_state.get())"
   ]
  },
  {
   "cell_type": "code",
   "execution_count": 21,
   "metadata": {},
   "outputs": [],
   "source": [
    "instrument.ramp()"
   ]
  },
  {
   "cell_type": "code",
   "execution_count": 23,
   "metadata": {},
   "outputs": [
    {
     "name": "stdout",
     "output_type": "stream",
     "text": [
      "Supply current 0.10431445 A\n",
      "Magnet current 0.10330000 A\n"
     ]
    }
   ],
   "source": [
    "print_currents(instrument)"
   ]
  },
  {
   "cell_type": "code",
   "execution_count": 24,
   "metadata": {},
   "outputs": [
    {
     "name": "stdout",
     "output_type": "stream",
     "text": [
      "Supply current 0.10474388 A\n",
      "Magnet current 0.10489657 A\n"
     ]
    }
   ],
   "source": [
    "instrument.switch_heater.on()\n",
    "print_currents(instrument)"
   ]
  },
  {
   "cell_type": "code",
   "execution_count": 25,
   "metadata": {},
   "outputs": [
    {
     "name": "stdout",
     "output_type": "stream",
     "text": [
      "Supply current 0.00761899 A\n",
      "Magnet current 0.00705978 A\n",
      "Supply current -0.00317967 A\n",
      "Magnet current 0.00000000 A\n"
     ]
    }
   ],
   "source": [
    "instrument.field.set(0)\n",
    "print_currents(instrument)\n",
    "instrument.switch_heater.off()\n",
    "print_currents(instrument)"
   ]
  },
  {
   "cell_type": "markdown",
   "metadata": {},
   "source": [
    "It seems that we now have full control of everything. That is great. There are still two things I want to check: \n",
    "\n",
    "1. How do we reach the magnetic field. Is the stability parameter 0 a good operation mode \n",
    "\n",
    "2. How fast is the ramp rate when the switch is superconducting. \n",
    "\n",
    "## Stability testing:"
   ]
  },
  {
   "cell_type": "code",
   "execution_count": null,
   "metadata": {},
   "outputs": [],
   "source": [
    "def perform_sweep_with_switch_heater(instrument, target_field,trace_length=61):\n",
    "\n",
    "    #Still implement the switch heating process in here \n",
    "    # Pause the instrument and set a target field\n",
    "    instrument.pause()\n",
    "    instrument.setpoint.set(target_field)\n",
    "    # Turn on the switch heater\n",
    "    instrument.switch_heater.on()\n",
    "    \n",
    "    start_time = time.time()\n",
    "    trace_length = trace_length\n",
    "\n",
    "    t = np.linspace(0,trace_length,trace_length)\n",
    "    B_y = np.zeros(trace_length)\n",
    "    instrument.ramp()\n",
    "    for i in range(trace_length):\n",
    "        time.sleep(1 - time.monotonic() % 1)\n",
    "        B_y[i] = instrument.field.get()\n",
    "    #Trace taking finished. Waiting for magnet to have\n",
    "    # reached the hold state. \n",
    "    while instrument.ramping_state() != 'holding':\n",
    "        time.sleep(1)\n",
    "    # Set the field back to 0\n",
    "    instrument.field.set(0)\n",
    "    # Return the traces \n",
    "    return t,B_y\n",
    "    "
   ]
  },
  {
   "cell_type": "markdown",
   "metadata": {},
   "source": [
    "It seems to me that there is no automated switch heater sweep command in the AMI 430 qcodes driver. the sates of the heaters have to be set manually."
   ]
  },
  {
   "cell_type": "markdown",
   "metadata": {},
   "source": [
    "I dont understand the difference between the two commands. \n",
    "\n",
    "instrument.switch_heater.state :\n",
    "The switchheater state has False or True as a output \n",
    "Asks for PS?\n",
    "instrument.switch_heater.in_persistent_mode\n",
    "Returns true and false \n",
    "Asks for PERS?\n"
   ]
  },
  {
   "cell_type": "markdown",
   "metadata": {},
   "source": [
    "\n",
    "From p177\n",
    "• PSwitch {0|1}\n",
    "Turns the persistent switch heater OFF and ON. Sending “0” turns the\n",
    "switch heater OFF. Sending a “1” turns the switch heater ON. Them\n",
    "default value is “0”.\n",
    "• PSwitch?\n",
    "Returns a “0” indicating the switch heater is OFF, or a “1” indicating the\n",
    "persistent switch heater is ON.\n",
    "\n",
    "• PERSistent?\n",
    "Returns the state of the MAGNET IN PERSISTENT MODE LED on the\n",
    "front panel of the Model 430: “0” if the LED is OFF; “1” if the LED is ON.\n",
    "\n",
    "\n"
   ]
  },
  {
   "cell_type": "markdown",
   "metadata": {},
   "source": [
    "I dont understand exactly what the difference is here. "
   ]
  },
  {
   "cell_type": "markdown",
   "metadata": {},
   "source": [
    "\n",
    "From p 135 136 \n",
    "\n",
    "We have the following commands available: \n",
    "\n",
    "-   CONFigure:PSwitch {0|1}\n",
    "    0 No switch installed 1 switch installed \n",
    "-   CONFigure:PSwitch:CURRent <current (A)>\n",
    "    Documentation on page 161 states that we set the state in mA makes more sense to me.\n",
    "-   CONFigure:PSwitch:TRANsition {0|1}\n",
    "    0 Timer based transition 1 Voltage based transition \n",
    "\n",
    "-   CONFigure:PSwitch:HeatTIME <time (sec)>\n",
    "-   CONFigure:PSwitch:CoolTIME <time (sec)>\n",
    "-   CONFigure:PSwitch:PowerSupplyRampRate <rate (A/s)>\n",
    "    Ramp rate of the current once the persisten switch is in the cooled state.\n",
    "    Can be a lot higher than the ramp rate we usually use. See p58 of the manual for further information.\n",
    "-   CONFigure:PSwitch:CoolingGAIN <percent>\n",
    "    Dont understand this.\n",
    "-   PSwitch:INSTalled?\n",
    "-   PSwitch:AUTODetect?\n",
    "-   PSwitch:CURRent?\n",
    "-   PSwitch:TRANsition?\n",
    "-   PSwitch:HeatTIME?\n",
    "-   PSwitch:CoolTIME?\n",
    "-   PSwitch:PowerSupplyRampRate?\n",
    "-   PSwitch:CoolingGAIN?\n",
    "\n",
    "\n",
    "We follow the following ramp up procedure:\n",
    "\n",
    "1.  CONFigure:PSwitch {0|1} set to 1 to indicate persistent switch is installed \n",
    "2.  CONFigure:PSwitch:CURRent <current (A)> then we set the current \n",
    "    -   The PSwitch:AUTODetect? command does an autodetect of the needed current. \n",
    "        We dont need this mehtod \n",
    "3.  CONFigure:PSwitch:HeatTIME <time (sec)>\n",
    "4.  CONFigure:PSwitch:CoolTIME <time (sec)>\n",
    "5.  CONFigure:PSwitch:PowerSupplyRampRate <rate (A/s)>\n"
   ]
  },
  {
   "cell_type": "markdown",
   "metadata": {},
   "source": [
    "How does the Code perform a ramp with a persisitent switch installed. \n",
    "I focus only on the switch heater checks here. \n",
    "\n",
    "-   Check the state of the switch heater. Raise error if its not resisitive\n",
    "\n",
    "I need to understand what the difference between switch heater enabled and switch heater on is."
   ]
  }
 ],
 "metadata": {
  "kernelspec": {
   "display_name": "Python 3.9.12 ('qcodes')",
   "language": "python",
   "name": "python3"
  },
  "language_info": {
   "codemirror_mode": {
    "name": "ipython",
    "version": 3
   },
   "file_extension": ".py",
   "mimetype": "text/x-python",
   "name": "python",
   "nbconvert_exporter": "python",
   "pygments_lexer": "ipython3",
   "version": "3.9.12"
  },
  "orig_nbformat": 4,
  "vscode": {
   "interpreter": {
    "hash": "474a36e610e757759f70cf53d6687fb0151bd8f7398ab0e21513a39d054b091f"
   }
  }
 },
 "nbformat": 4,
 "nbformat_minor": 2
}
