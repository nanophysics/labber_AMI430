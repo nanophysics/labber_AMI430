{
 "cells": [
  {
   "cell_type": "markdown",
   "metadata": {},
   "source": [
    "# Magnet Sweep with AMI430:\n",
    "Single axis sweep with a magnet coil with noio switch heater. "
   ]
  },
  {
   "cell_type": "code",
   "execution_count": 1,
   "metadata": {},
   "outputs": [
    {
     "name": "stderr",
     "output_type": "stream",
     "text": [
      "NoTagError: `git describe` could not find a tag\n"
     ]
    }
   ],
   "source": [
    "import time \n",
    "import numpy as np \n",
    "import matplotlib.pyplot as plt\n",
    "from qcodes.instrument_drivers.american_magnetics.AMI430_visa import AMI430, AMI430_3D\n",
    "from qcodes.math_utils.field_vector import FieldVector"
   ]
  },
  {
   "cell_type": "code",
   "execution_count": 2,
   "metadata": {},
   "outputs": [
    {
     "name": "stdout",
     "output_type": "stream",
     "text": [
      "Connected to: AMERICAN MAGNETICS INC. 430 (serial:430-22-053, firmware:3.15) in 1.10s\n"
     ]
    }
   ],
   "source": [
    "# Initialize connection only to the Y-Axis\n",
    "iy = AMI430(\"y\", address=\"TCPIP0::169.254.70.51::7180::SOCKET\")\n",
    "instrument = iy \n",
    "\n"
   ]
  },
  {
   "cell_type": "code",
   "execution_count": 10,
   "metadata": {},
   "outputs": [
    {
     "name": "stdout",
     "output_type": "stream",
     "text": [
      "0.0037610000000000005\n",
      "None\n",
      "0.007522000000000001\n"
     ]
    }
   ],
   "source": [
    "# Some playing around wehn we had isues with the driver not starting up nicely.\n",
    "\n",
    "#print(instrument.field_limit.get())\n",
    "#print(instrument.current_limit.set(2))\n",
    "#print(instrument.field_limit.get())"
   ]
  },
  {
   "cell_type": "markdown",
   "metadata": {},
   "source": [
    "There is a interdependecy from current limit and field limit. We can not set them indipendently. The driver keeps track of that. This is very strange. It seems that we first have to set the coil constant. Then the current limit then the field limit, lets see "
   ]
  },
  {
   "cell_type": "code",
   "execution_count": 17,
   "metadata": {},
   "outputs": [],
   "source": [
    "# Set all the relevant instrument parameters\n",
    "def set_calibration(instrument):\n",
    "    # Order of initialitaion matter when the units were set to something strange. \n",
    "    instrument.field_units.set('tesla')\n",
    "    instrument.ramp_rate_units('seconds')\n",
    "    instrument.coil_constant.set(3/79.77) # Tesla/Ampere\n",
    "    instrument.current_limit.set(79.77) # Ampere\n",
    "    instrument.field_limit.set(3) # Tesla\n",
    "    instrument.current_ramp_limit.set(0.0353) # Ampere/second\n",
    "    instrument.field_ramp_limit.set(0.0353*3/79.77) # Tesla/second\n",
    "    instrument.inductance.set(28.3)\n",
    "    instrument.stability_parameter.set(100-28.3)\n",
    "    instrument.ramp_rate.set(0.001) # Tesla/Second\n",
    "    return \n",
    "\n",
    "set_calibration(instrument)"
   ]
  },
  {
   "cell_type": "code",
   "execution_count": 18,
   "metadata": {},
   "outputs": [
    {
     "name": "stdout",
     "output_type": "stream",
     "text": [
      "y_IDN {'vendor': 'AMERICAN MAGNETICS INC.', 'model': '430', 'serial': '430-22-053', 'firmware': '3.15'} \n",
      "y_timeout 5.0 s\n",
      "y_ramp_rate_units seconds \n",
      "y_field_units tesla \n",
      "y_current_ramp_limit 0.0353 A/s\n",
      "y_field_ramp_limit 0.0013275667544189545 T/s\n",
      "y_coil_constant 0.037608 T/A\n",
      "y_current_limit 79.77 A\n",
      "y_field_limit 2.99999016 T\n",
      "y_field -6.325e-06 T\n",
      "y_ramp_rate 0.001 T/s\n",
      "y_setpoint 0.01 T\n",
      "y_is_quenched False \n",
      "y_ramping_state paused \n",
      "y_ramping_state_check_interval 0.05 s\n",
      "y_inductance 28.30 H\n",
      "y_stability_parameter 71.7 \n"
     ]
    }
   ],
   "source": [
    "# Check that all parameters wer set correctly\n",
    "params = instrument.parameters\n",
    "for p in params:\n",
    "    print(params[p], params[p].get(), params[p].unit)"
   ]
  },
  {
   "cell_type": "code",
   "execution_count": 7,
   "metadata": {},
   "outputs": [
    {
     "data": {
      "text/plain": [
       "0.01"
      ]
     },
     "execution_count": 7,
     "metadata": {},
     "output_type": "execute_result"
    }
   ],
   "source": [
    "# Set a Target field of 10mT\n",
    "\n",
    "instrument.setpoint.get()\n",
    "instrument.field.set(0.01)\n",
    "instrument.setpoint.get()"
   ]
  },
  {
   "cell_type": "markdown",
   "metadata": {},
   "source": [
    "Notes:\n",
    "- The driver doesnt support setting a set point. \n",
    "- In the driver you set a field. Then it immediately ramps to the target field. Only then is the setpoint updated and printed \n",
    "\n",
    "- How I understand it should go is the opposite. We want to set a setpoint. Then we want to switch the ramping state and then wait. "
   ]
  },
  {
   "cell_type": "code",
   "execution_count": 8,
   "metadata": {},
   "outputs": [],
   "source": [
    "# Now  set the field to 0 again \n",
    "instrument.field.set(0)"
   ]
  },
  {
   "cell_type": "code",
   "execution_count": 5,
   "metadata": {},
   "outputs": [
    {
     "data": {
      "text/plain": [
       "0.01"
      ]
     },
     "execution_count": 5,
     "metadata": {},
     "output_type": "execute_result"
    }
   ],
   "source": [
    "# Now try a more raw version of this sweep\n",
    "# Add the possiblity to add a target field to the driver and then set the supply to the \n",
    "# ramp state. \n",
    "instrument.setpoint.set(0.01)\n",
    "instrument.setpoint.get()\n",
    "# At this point the magnet is still at 0T, this didnt work. It just immediately went there"
   ]
  },
  {
   "cell_type": "code",
   "execution_count": 14,
   "metadata": {},
   "outputs": [],
   "source": [
    "instrument.field.set(0)\n",
    "# Going back to 0 Tesla  "
   ]
  },
  {
   "cell_type": "code",
   "execution_count": 9,
   "metadata": {},
   "outputs": [],
   "source": [
    "instrument.pause()\n",
    "instrument.setpoint.set(0.01)\n",
    "# Now we are not going there. but we only set the setpoint. "
   ]
  },
  {
   "cell_type": "code",
   "execution_count": 10,
   "metadata": {},
   "outputs": [],
   "source": [
    "# Monitor the ramp\n",
    "start_time = time.time()\n",
    "trace_length = 21\n",
    "\n",
    "t = np.linspace(0,trace_length,trace_length)\n",
    "B_y = np.zeros(trace_length)\n",
    "instrument.ramp()\n",
    "for i in range(trace_length):\n",
    "    time.sleep(1 - time.monotonic() % 1)\n",
    "    B_y[i] = instrument.field.get()"
   ]
  },
  {
   "cell_type": "code",
   "execution_count": 11,
   "metadata": {},
   "outputs": [
    {
     "data": {
      "text/plain": [
       "Text(0, 0.5, 'B [mT]')"
      ]
     },
     "execution_count": 11,
     "metadata": {},
     "output_type": "execute_result"
    },
    {
     "data": {
      "image/png": "[encoded data removed]",
      "text/plain": [
       "<Figure size 640x480 with 1 Axes>"
      ]
     },
     "metadata": {},
     "output_type": "display_data"
    }
   ],
   "source": [
    "fig, ax = plt.subplots()\n",
    "ax.plot(t,B_y*1e3)\n",
    "ax.set_xlabel('t [s]')\n",
    "ax.set_ylabel('B [mT]')"
   ]
  },
  {
   "cell_type": "code",
   "execution_count": 12,
   "metadata": {},
   "outputs": [],
   "source": [
    "instrument.pause()\n",
    "instrument.setpoint(0)"
   ]
  },
  {
   "cell_type": "code",
   "execution_count": 13,
   "metadata": {},
   "outputs": [],
   "source": [
    "# Monitor the ramp\n",
    "start_time = time.time()\n",
    "trace_length = 21\n",
    "\n",
    "t = np.linspace(0,trace_length,trace_length)\n",
    "B_y = np.zeros(trace_length)\n",
    "instrument.ramp()\n",
    "for i in range(trace_length):\n",
    "    time.sleep(1 - time.monotonic() % 1)\n",
    "    B_y[i] = instrument.field.get()"
   ]
  },
  {
   "cell_type": "code",
   "execution_count": 14,
   "metadata": {},
   "outputs": [
    {
     "data": {
      "text/plain": [
       "Text(0, 0.5, 'B [mT]')"
      ]
     },
     "execution_count": 14,
     "metadata": {},
     "output_type": "execute_result"
    },
    {
     "data": {
      "image/png": "[encoded data removed]",
      "text/plain": [
       "<Figure size 640x480 with 1 Axes>"
      ]
     },
     "metadata": {},
     "output_type": "display_data"
    }
   ],
   "source": [
    "fig, ax = plt.subplots()\n",
    "ax.plot(t,B_y*1e3)\n",
    "ax.set_xlabel('t [s]')\n",
    "ax.set_ylabel('B [mT]')"
   ]
  },
  {
   "cell_type": "code",
   "execution_count": 22,
   "metadata": {},
   "outputs": [],
   "source": [
    "#Now we write a function to automate a single sweep \n",
    "\n",
    "\n",
    "def perform_sweep(instrument, target_field,trace_length=21):\n",
    "    instrument.pause()\n",
    "    instrument.setpoint.set(target_field)\n",
    "\n",
    "    start_time = time.time()\n",
    "    trace_length = trace_length\n",
    "\n",
    "    t = np.linspace(0,trace_length,trace_length)\n",
    "    B_y = np.zeros(trace_length)\n",
    "    instrument.ramp()\n",
    "    for i in range(trace_length):\n",
    "        time.sleep(1 - time.monotonic() % 1)\n",
    "        B_y[i] = instrument.field.get()\n",
    "    #Trace taking finished. Waiting for magnet to have\n",
    "    # reached the hold state. \n",
    "    while instrument.ramping_state() != 'holding':\n",
    "        time.sleep(1)\n",
    "    # Set the field back to 0\n",
    "    instrument.field.set(0)\n",
    "    # Return the traces \n",
    "    return t,B_y\n",
    "    "
   ]
  },
  {
   "cell_type": "code",
   "execution_count": 39,
   "metadata": {},
   "outputs": [],
   "source": [
    "t,B_y = perform_sweep(instrument,0.01)"
   ]
  },
  {
   "cell_type": "code",
   "execution_count": 24,
   "metadata": {},
   "outputs": [
    {
     "data": {
      "text/plain": [
       "Text(0, 0.5, 'B [mT]')"
      ]
     },
     "execution_count": 24,
     "metadata": {},
     "output_type": "execute_result"
    },
    {
     "data": {
      "image/png": "[encoded data removed]",
      "text/plain": [
       "<Figure size 640x480 with 1 Axes>"
      ]
     },
     "metadata": {},
     "output_type": "display_data"
    }
   ],
   "source": [
    "fig, ax = plt.subplots()\n",
    "ax.plot(t,B_y*1e3)\n",
    "ax.set_xlabel('t [s]')\n",
    "ax.set_ylabel('B [mT]')"
   ]
  },
  {
   "cell_type": "code",
   "execution_count": 40,
   "metadata": {},
   "outputs": [
    {
     "name": "stdout",
     "output_type": "stream",
     "text": [
      "Testing stability paramter: 0.0\n",
      "Check the stability parameter was set: 0.0\n",
      "Testing stability paramter: 100.0\n",
      "Check the stability parameter was set: 100.0\n"
     ]
    },
    {
     "data": {
      "text/plain": [
       "<matplotlib.legend.Legend at 0x205ec8ab640>"
      ]
     },
     "execution_count": 40,
     "metadata": {},
     "output_type": "execute_result"
    },
    {
     "data": {
      "image/png": "[encoded data removed]",
      "text/plain": [
       "<Figure size 640x480 with 1 Axes>"
      ]
     },
     "metadata": {},
     "output_type": "display_data"
    }
   ],
   "source": [
    "#Now we do a test, how does the stability parameter influence this field. \n",
    "\n",
    "fig, ax = plt.subplots()\n",
    "ax.set_xlabel('t [s]')\n",
    "ax.set_ylabel('B [mT]')\n",
    "ax.plot(t,B_y*1e3,label = 'Optimal Parameter')\n",
    "\n",
    "stability_parameter = np.linspace(0,100,2)    \n",
    "for i in stability_parameter: \n",
    "    print('Testing stability paramter: {:.1f}'.format(i))\n",
    "    instrument.stability_parameter.set(i)\n",
    "    print('Check the stability parameter was set:', instrument.stability_parameter.get())\n",
    "    ts,B_ys = perform_sweep(instrument,0.01,trace_length=101)\n",
    "    ax.plot(ts,B_ys*1e3,label = 'Stability Parameter: {:.1f}'.format(i) )\n",
    "ax.legend(loc='best')\n"
   ]
  },
  {
   "cell_type": "markdown",
   "metadata": {},
   "source": [
    "Notes: From this we clearly see that the right calibration parameters have a hughe influence on reaching the field setpoint.\n",
    "\n",
    "# Try o out some of the standard functions of the QCodes Driver:"
   ]
  },
  {
   "cell_type": "code",
   "execution_count": 43,
   "metadata": {},
   "outputs": [
    {
     "data": {
      "text/plain": [
       "1.44e-07"
      ]
     },
     "execution_count": 43,
     "metadata": {},
     "output_type": "execute_result"
    }
   ],
   "source": [
    "instrument.field.get()"
   ]
  },
  {
   "cell_type": "code",
   "execution_count": 44,
   "metadata": {},
   "outputs": [],
   "source": [
    "instrument.pause()\n",
    "instrument.setpoint.set(0.01)"
   ]
  },
  {
   "cell_type": "code",
   "execution_count": 45,
   "metadata": {},
   "outputs": [
    {
     "name": "stdout",
     "output_type": "stream",
     "text": [
      "paused\n",
      "0.00054957\n"
     ]
    }
   ],
   "source": [
    "instrument.ramp()\n",
    "time.sleep(2)\n",
    "instrument.pause()\n",
    "print(instrument.ramping_state.get())\n",
    "print(instrument.field.get())"
   ]
  },
  {
   "cell_type": "code",
   "execution_count": 19,
   "metadata": {},
   "outputs": [
    {
     "data": {
      "text/plain": [
       "0.01"
      ]
     },
     "execution_count": 19,
     "metadata": {},
     "output_type": "execute_result"
    }
   ],
   "source": [
    "instrument.setpoint.get()"
   ]
  },
  {
   "cell_type": "code",
   "execution_count": 20,
   "metadata": {},
   "outputs": [
    {
     "name": "stdout",
     "output_type": "stream",
     "text": [
      "paused\n",
      "0.002743609\n"
     ]
    }
   ],
   "source": [
    "instrument.ramp()\n",
    "time.sleep(5)\n",
    "instrument.pause()\n",
    "print(instrument.ramping_state.get())\n",
    "print(instrument.field.get())"
   ]
  },
  {
   "cell_type": "code",
   "execution_count": 21,
   "metadata": {},
   "outputs": [],
   "source": [
    "instrument.zero()"
   ]
  },
  {
   "cell_type": "code",
   "execution_count": 25,
   "metadata": {},
   "outputs": [
    {
     "data": {
      "text/plain": [
       "'at zero current'"
      ]
     },
     "execution_count": 25,
     "metadata": {},
     "output_type": "execute_result"
    }
   ],
   "source": [
    "instrument.field.get()\n",
    "instrument.field.get()\n",
    "instrument.ramping_state.get()"
   ]
  },
  {
   "cell_type": "code",
   "execution_count": 28,
   "metadata": {},
   "outputs": [
    {
     "name": "stdout",
     "output_type": "stream",
     "text": [
      "9.3224e-05\n",
      "ramping\n",
      "0.000598446\n",
      "ramping\n",
      "0.001393332\n",
      "ramping\n",
      "0.002355187\n",
      "ramping\n",
      "0.003433986\n",
      "ramping\n",
      "0.004557132\n",
      "ramping\n",
      "0.005741806\n",
      "ramping\n",
      "0.006903407\n",
      "ramping\n",
      "0.008072051\n",
      "ramping\n",
      "0.008889219\n",
      "ramping\n",
      "0.009359796\n",
      "ramping\n",
      "0.009636378\n",
      "ramping\n",
      "0.009800473\n",
      "ramping\n",
      "0.009881693\n",
      "ramping\n",
      "0.009945017\n",
      "ramping\n",
      "0.009963633\n",
      "ramping\n",
      "0.009984837\n",
      "ramping\n",
      "0.009995115\n",
      "holding\n",
      "0.009998709\n",
      "holding\n",
      "0.009994324\n",
      "holding\n",
      "0.009992815\n",
      "holding\n",
      "0.009997415\n",
      "holding\n",
      "0.009991952\n",
      "holding\n",
      "0.010005681\n",
      "holding\n",
      "0.010008412\n",
      "holding\n",
      "0.010002015\n",
      "holding\n",
      "0.01000604\n",
      "holding\n",
      "0.009997846\n",
      "holding\n",
      "0.010007981\n",
      "holding\n",
      "0.009999499\n",
      "holding\n",
      "0.010003596\n",
      "holding\n"
     ]
    }
   ],
   "source": [
    "instrument.setpoint.get()\n",
    "instrument.ramping_state.get()\n",
    "instrument.ramp()\n",
    "for i in np.arange(31):\n",
    "    time.sleep(1)\n",
    "    print(instrument.field.get())\n",
    "    print(instrument.ramping_state.get())\n"
   ]
  },
  {
   "cell_type": "code",
   "execution_count": 31,
   "metadata": {},
   "outputs": [],
   "source": [
    "instrument.field.set(0)"
   ]
  },
  {
   "cell_type": "code",
   "execution_count": null,
   "metadata": {},
   "outputs": [],
   "source": []
  }
 ],
 "metadata": {
  "kernelspec": {
   "display_name": "Python 3.9.12 ('qcodes')",
   "language": "python",
   "name": "python3"
  },
  "language_info": {
   "codemirror_mode": {
    "name": "ipython",
    "version": 3
   },
   "file_extension": ".py",
   "mimetype": "text/x-python",
   "name": "python",
   "nbconvert_exporter": "python",
   "pygments_lexer": "ipython3",
   "version": "3.9.12"
  },
  "orig_nbformat": 4,
  "vscode": {
   "interpreter": {
    "hash": "474a36e610e757759f70cf53d6687fb0151bd8f7398ab0e21513a39d054b091f"
   }
  }
 },
 "nbformat": 4,
 "nbformat_minor": 2
}
