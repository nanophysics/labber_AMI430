{
 "cells": [
  {
   "cell_type": "markdown",
   "metadata": {},
   "source": [
    "# Load all packages that we need\n",
    "\n",
    "This is based on the following example: \n",
    "\n",
    "https://qcodes.github.io/Qcodes/examples/driver_examples/Qcodes%20example%20with%20AMI430.html"
   ]
  },
  {
   "cell_type": "code",
   "execution_count": 1,
   "metadata": {},
   "outputs": [],
   "source": [
    "import time \n",
    "import numpy as np \n",
    "import matplotlib.pyplot as plt\n",
    "from qcodes.instrument_drivers.american_magnetics.AMI430_visa import AMI430, AMI430_3D\n",
    "from qcodes.math_utils.field_vector import FieldVector"
   ]
  },
  {
   "cell_type": "markdown",
   "metadata": {},
   "source": [
    "# Check if we can establish communication with the power sources\n",
    "\n",
    "\n",
    "The easiest way to find the TCPIP adresses of the magnet is to use the Multi-Axis Operation module from AMI. \n",
    "\n",
    "Open: Define Parameter/Limits to find the respective information. Port 76180 seems to be universal. \n",
    "\n",
    "Only run the cell below once, otherwise it will crash. "
   ]
  },
  {
   "cell_type": "code",
   "execution_count": 2,
   "metadata": {},
   "outputs": [
    {
     "name": "stdout",
     "output_type": "stream",
     "text": [
      "Connected to: AMERICAN MAGNETICS INC. 430 (serial:430-22-054, firmware:3.15) in 1.21s\n",
      "Connected to: AMERICAN MAGNETICS INC. 430 (serial:430-22-053, firmware:3.15) in 1.35s\n",
      "Connected to: AMERICAN MAGNETICS INC. 430 (serial:430-22-055, firmware:3.15) in 1.20s\n"
     ]
    }
   ],
   "source": [
    "ix = AMI430(\"x\", address=\"TCPIP0::169.254.27.8::7180::SOCKET\")\n",
    "iy = AMI430(\"y\", address=\"TCPIP0::169.254.70.51::7180::SOCKET\")\n",
    "iz = AMI430(\"z\", address=\"TCPIP0::169.254.201.182::7180::SOCKET\")"
   ]
  },
  {
   "cell_type": "markdown",
   "metadata": {},
   "source": [
    "# Testing the single axis example of the driver:"
   ]
  },
  {
   "cell_type": "code",
   "execution_count": 3,
   "metadata": {},
   "outputs": [
    {
     "name": "stdout",
     "output_type": "stream",
     "text": [
      "{'vendor': 'AMERICAN MAGNETICS INC.', 'model': '430', 'serial': '430-22-055', 'firmware': '3.15'}\n"
     ]
    }
   ],
   "source": [
    "instrument = iz \n",
    "\n",
    "# Get the instrument id \n",
    "instrument_id = instrument.get_idn()\n",
    "print(instrument_id)\n"
   ]
  },
  {
   "cell_type": "markdown",
   "metadata": {},
   "source": [
    "## Getting all the settings form the programmer\n",
    "### Getting single values"
   ]
  },
  {
   "cell_type": "code",
   "execution_count": 4,
   "metadata": {},
   "outputs": [
    {
     "data": {
      "text/plain": [
       "0.0968"
      ]
     },
     "execution_count": 4,
     "metadata": {},
     "output_type": "execute_result"
    }
   ],
   "source": [
    "instrument.coil_constant.get()"
   ]
  },
  {
   "cell_type": "code",
   "execution_count": 5,
   "metadata": {},
   "outputs": [
    {
     "data": {
      "text/plain": [
       "'T/A'"
      ]
     },
     "execution_count": 5,
     "metadata": {},
     "output_type": "execute_result"
    }
   ],
   "source": [
    "instrument.coil_constant.unit"
   ]
  },
  {
   "cell_type": "markdown",
   "metadata": {},
   "source": [
    "### Iterating over all instrument settings:"
   ]
  },
  {
   "cell_type": "code",
   "execution_count": 6,
   "metadata": {},
   "outputs": [
    {
     "name": "stdout",
     "output_type": "stream",
     "text": [
      "z_IDN {'vendor': 'AMERICAN MAGNETICS INC.', 'model': '430', 'serial': '430-22-055', 'firmware': '3.15'} \n",
      "z_timeout 5.0 s\n",
      "z_ramp_rate_units seconds \n",
      "z_field_units tesla \n",
      "z_current_ramp_limit 0.06 A/s\n",
      "z_field_ramp_limit 0.005808 T/s\n",
      "z_coil_constant 0.0968 T/A\n",
      "z_current_limit 61.98 A\n",
      "z_field_limit 5.999663999999999 T\n",
      "z_field -4.1199e-05 T\n",
      "z_ramp_rate 0.005 T/s\n",
      "z_setpoint 0.0 T\n",
      "z_is_quenched False \n",
      "z_ramping_state paused \n",
      "z_ramping_state_check_interval 0.05 s\n"
     ]
    }
   ],
   "source": [
    "params = instrument.parameters\n",
    "for p in params: \n",
    "    print(params[p] ,params[p].get(), params[p].unit)"
   ]
  },
  {
   "cell_type": "markdown",
   "metadata": {},
   "source": [
    "### See the fluctations in the z-field as a function of time:"
   ]
  },
  {
   "cell_type": "code",
   "execution_count": 7,
   "metadata": {},
   "outputs": [],
   "source": [
    "start_time = time.time()\n",
    "trace_length = 61\n",
    "\n",
    "t = np.linspace(0,trace_length,trace_length)\n",
    "B_z = np.zeros(trace_length)\n",
    "for i in range(trace_length):\n",
    "    time.sleep(1 - time.monotonic() % 1)\n",
    "    B_z[i] = instrument.field.get()\n",
    "    "
   ]
  },
  {
   "cell_type": "code",
   "execution_count": 8,
   "metadata": {},
   "outputs": [
    {
     "data": {
      "text/plain": [
       "[<matplotlib.lines.Line2D at 0x1b295535910>]"
      ]
     },
     "execution_count": 8,
     "metadata": {},
     "output_type": "execute_result"
    },
    {
     "data": {
      "image/png": "[encoded data removed]",
      "text/plain": [
       "<Figure size 640x480 with 1 Axes>"
      ]
     },
     "metadata": {},
     "output_type": "display_data"
    }
   ],
   "source": [
    "plt.figure()\n",
    "plt.plot(t,B_z)\n"
   ]
  },
  {
   "cell_type": "markdown",
   "metadata": {},
   "source": [
    "## Writing settings to the prorgrammer: \n",
    "\n",
    "We try to set a new ramp rate limit and check what happens"
   ]
  },
  {
   "cell_type": "code",
   "execution_count": 63,
   "metadata": {},
   "outputs": [
    {
     "data": {
      "text/plain": [
       "0.001"
      ]
     },
     "execution_count": 63,
     "metadata": {},
     "output_type": "execute_result"
    }
   ],
   "source": [
    "instrument.ramp_rate.set(0.001)\n",
    "instrument.ramp_rate.get()"
   ]
  },
  {
   "cell_type": "markdown",
   "metadata": {},
   "source": [
    "### Understanding the connections of all the constants we set: \n",
    "\n",
    "The data from the Datasheet of the Magnet gives the following constrictions for the z-Axis instrument. \n",
    "\n",
    "1. Maximal Field, 60kG = 6 T\n",
    "2. Rated operating Current  61.98 A\n",
    "3. Ramp Rate  0.0909 A/s\n",
    "4. Field to Current Ratio 0.9680 kG/Amp = 0.09680 T/A (Maximal Field/Rated Operating Current) -- Actually obsolet number\n",
    "5. Inductance 11 H\n",
    "6. Recommended Persisten Switch Heater Current 20.1mA\n",
    "7. Persistent Switch Heater Nominal Resistance 168 Ohm @ RT \n",
    "8. Total Magnet and Switch Resistance 36 Ohm @ RT\n",
    "\n",
    "Side note to myself: in the current settings the ramp rate limit was set to 0.06A/s which is 1/3 lower than the datasheet allows. I dont see why this is the case. "
   ]
  },
  {
   "cell_type": "code",
   "execution_count": 65,
   "metadata": {
    "scrolled": true
   },
   "outputs": [
    {
     "name": "stdout",
     "output_type": "stream",
     "text": [
      "z_IDN {'vendor': 'AMERICAN MAGNETICS INC.', 'model': '430', 'serial': '430-22-055', 'firmware': '3.15'} \n",
      "z_timeout 5.0 s\n",
      "z_ramp_rate_units seconds \n",
      "z_field_units tesla \n",
      "z_current_ramp_limit 0.06 A/s\n",
      "z_field_ramp_limit 0.005808 T/s\n",
      "z_coil_constant 0.0968 T/A\n",
      "z_current_limit 61.98 A\n",
      "z_field_limit 5.999663999999999 T\n",
      "z_field -4.1199e-05 T\n",
      "z_ramp_rate 0.001 T/s\n",
      "z_setpoint 0.0 T\n",
      "z_is_quenched False \n",
      "z_ramping_state paused \n",
      "z_ramping_state_check_interval 0.05 s\n"
     ]
    }
   ],
   "source": [
    "params = instrument.parameters\n",
    "for p in params: \n",
    "    print(params[p] ,params[p].get(), params[p].unit)"
   ]
  },
  {
   "cell_type": "code",
   "execution_count": 73,
   "metadata": {},
   "outputs": [],
   "source": [
    "magnet_spec = {\n",
    "    'current_limit': 61.98, # Ampere\n",
    "    'field_limit' : 6, # Tesla\n",
    "    'ramp_rate' : 0.0909, # Ampere/s\n",
    "}\n",
    "magnet_spec['coil_constant'] =magnet_spec['field_limit']/magnet_spec['current_limit']\n",
    "magnet_spec['field_ramp_limit']=magnet_spec['coil_constant']*magnet_spec['ramp_rate']"
   ]
  },
  {
   "cell_type": "code",
   "execution_count": 75,
   "metadata": {},
   "outputs": [
    {
     "name": "stdout",
     "output_type": "stream",
     "text": [
      "{'current_limit': 61.98, 'field_limit': 6, 'ramp_rate': 0.0909, 'coil_constant': 0.0968054211035818, 'field_ramp_limit': 0.008799612778315586}\n"
     ]
    }
   ],
   "source": [
    "print(magnet_spec)"
   ]
  },
  {
   "cell_type": "code",
   "execution_count": 78,
   "metadata": {},
   "outputs": [
    {
     "data": {
      "text/plain": [
       "0.008799612778315586"
      ]
     },
     "execution_count": 78,
     "metadata": {},
     "output_type": "execute_result"
    }
   ],
   "source": [
    "instrument.field_ramp_limit.set(magnet_spec['field_ramp_limit'])\n",
    "instrument.field_ramp_limit.get()"
   ]
  },
  {
   "cell_type": "code",
   "execution_count": 86,
   "metadata": {},
   "outputs": [
    {
     "name": "stdout",
     "output_type": "stream",
     "text": [
      "z_IDN {'vendor': 'AMERICAN MAGNETICS INC.', 'model': '430', 'serial': '430-22-055', 'firmware': '3.15'} \n",
      "z_timeout 5.0 s\n",
      "z_ramp_rate_units seconds \n",
      "z_field_units tesla \n",
      "z_current_ramp_limit 0.09090509068507838 A/s\n",
      "z_field_ramp_limit 0.008799612778315586 T/s\n",
      "z_coil_constant 0.0968 T/A\n",
      "z_current_limit 61.98 A\n",
      "z_field_limit 5.999663999999999 T\n",
      "z_field -4.1199e-05 T\n",
      "z_ramp_rate 0.005 T/s\n",
      "z_setpoint 0.0 T\n",
      "z_is_quenched False \n",
      "z_ramping_state paused \n",
      "z_ramping_state_check_interval 0.05 s\n"
     ]
    }
   ],
   "source": [
    "params = instrument.parameters\n",
    "for p in params: \n",
    "    print(params[p] ,params[p].get(), params[p].unit)"
   ]
  },
  {
   "cell_type": "markdown",
   "metadata": {},
   "source": [
    "# List of Questions for Hans:\n",
    "\n",
    "- In my understanding the logic of the example of qcodes and the current code is not the same. It seems to me that qcodes has hidden variables for coil_constant which is no longer the case. \n",
    "\n",
    "- Labber logic. How is a sweep generated in Labber? \n",
    "Example: The user sets up a sweep from (0,0,0)T to (2,2,2)T. We know that points out of (1,1,1) are not allowed due to limits of the maximum field. Is labber now communicating on a point to point basis with the driver and we check every point before we set it. This would lead to an error message once we reach (1,1,1). Or do we get the full sweep information before the measurement starts and we would stop the measurement from happening at all ? "
   ]
  },
  {
   "cell_type": "markdown",
   "metadata": {},
   "source": [
    "# Use Cases of the Magnet: \n",
    "\n",
    "- Individual sweeps of magnet axis with defined ramp rate. The ramp rate should always be below the maximum allowed ramp rate. \n",
    "\n",
    "- Block user from continuing measuring after a quench has happend. Meaning that we do not switch the Powersupply back to remote control mode. \n",
    "\n",
    "- After every restart of the driver check that the correct Magnet Information values are uploaded to the device. \n",
    "\n",
    "- Turn on/off heat switch, turn on off current on the axis with the heat switch\n",
    "\n",
    "- We know that the magnetic field is not completely stable when the magnet is operated with the switch heater in the sc state. We do want the option to keep the powersuplly current on while the heatswitch is in the superconducting state \n",
    "\n",
    "- We want the following sweep modes \n",
    "    - 1d sweeps \n",
    "    - 2d/3d sweeps where we sweep each axis individually to achieve maximum speed. Check if all measurement points are within the allowed magnetic field range.\n",
    "    - 2d/3d zylindrical/spherical sweeps along a trajectory with constant r. In this case the sweeprate that is maximally allowed needs to be reduced to a given parameter.\n"
   ]
  },
  {
   "cell_type": "markdown",
   "metadata": {},
   "source": [
    "# List of ToDos Benedikt:\n",
    "\n",
    "- Understand the meaning of the scaling factor in the ramp rate settings. \n",
    "- Understand 2d/3d driver initialitations. \n",
    "- How does quench protection work on AMI systems \n",
    "- Check stability of the Magnetic field. How fast do we reach a defined setpoint and how stable are we there. \n",
    "- Cann switch heater supraleitend sein waehren wir die xy achse sweepen\n",
    "\n"
   ]
  },
  {
   "cell_type": "code",
   "execution_count": null,
   "metadata": {},
   "outputs": [],
   "source": []
  },
  {
   "cell_type": "code",
   "execution_count": null,
   "metadata": {},
   "outputs": [],
   "source": []
  }
 ],
 "metadata": {
  "kernelspec": {
   "display_name": "Python 3 (ipykernel)",
   "language": "python",
   "name": "python3"
  },
  "language_info": {
   "codemirror_mode": {
    "name": "ipython",
    "version": 3
   },
   "file_extension": ".py",
   "mimetype": "text/x-python",
   "name": "python",
   "nbconvert_exporter": "python",
   "pygments_lexer": "ipython3",
   "version": "3.9.12"
  }
 },
 "nbformat": 4,
 "nbformat_minor": 4
}
